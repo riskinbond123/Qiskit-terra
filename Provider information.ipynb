{
  "cells": [
    {
      "cell_type": "code",
      "execution_count": 1,
      "metadata": {
        "trusted": true
      },
      "outputs": [
        {
          "name": "stderr",
          "output_type": "stream",
          "text": "/opt/conda/lib/python3.7/site-packages/qiskit/providers/ibmq/ibmqfactory.py:192: UserWarning: Timestamps in IBMQ backend properties, jobs, and job results are all now in local time instead of UTC.\n  warnings.warn('Timestamps in IBMQ backend properties, jobs, and job results '\n"
        }
      ],
      "source": "%matplotlib inline\n# Importing standard Qiskit libraries and configuring account\nfrom qiskit import QuantumCircuit, execute, Aer, IBMQ\nfrom qiskit.compiler import transpile, assemble\nfrom qiskit.tools.jupyter import *\nfrom qiskit.visualization import *\n# Loading your IBM Q account(s)\nprovider = IBMQ.load_account()"
    },
    {
      "cell_type": "code",
      "execution_count": 2,
      "metadata": {
        "trusted": true
      },
      "outputs": [
        {
          "ename": "IBMQProviderError",
          "evalue": "'No provider matches the specified criteria: hub = None, group = None, project = my_project'",
          "output_type": "error",
          "traceback": [
            "\u001b[0;31m---------------------------------------------------------------------------\u001b[0m",
            "\u001b[0;31mIBMQProviderError\u001b[0m                         Traceback (most recent call last)",
            "\u001b[0;32m<ipython-input-2-26c0e570e647>\u001b[0m in \u001b[0;36m<module>\u001b[0;34m\u001b[0m\n\u001b[1;32m      1\u001b[0m \u001b[0mIBMQ\u001b[0m\u001b[0;34m.\u001b[0m\u001b[0mget_provider\u001b[0m\u001b[0;34m(\u001b[0m\u001b[0mhub\u001b[0m\u001b[0;34m=\u001b[0m\u001b[0;34m'ibm-q'\u001b[0m\u001b[0;34m)\u001b[0m\u001b[0;34m\u001b[0m\u001b[0;34m\u001b[0m\u001b[0m\n\u001b[0;32m----> 2\u001b[0;31m \u001b[0mIBMQ\u001b[0m\u001b[0;34m.\u001b[0m\u001b[0mget_provider\u001b[0m\u001b[0;34m(\u001b[0m\u001b[0mproject\u001b[0m\u001b[0;34m=\u001b[0m\u001b[0;34m'my_project'\u001b[0m\u001b[0;34m)\u001b[0m\u001b[0;34m\u001b[0m\u001b[0;34m\u001b[0m\u001b[0m\n\u001b[0m",
            "\u001b[0;32m/opt/conda/lib/python3.7/site-packages/qiskit/providers/ibmq/ibmqfactory.py\u001b[0m in \u001b[0;36mget_provider\u001b[0;34m(self, hub, group, project)\u001b[0m\n\u001b[1;32m    434\u001b[0m             raise IBMQProviderError('No provider matches the specified criteria: '\n\u001b[1;32m    435\u001b[0m                                     \u001b[0;34m'hub = {}, group = {}, project = {}'\u001b[0m\u001b[0;34m\u001b[0m\u001b[0;34m\u001b[0m\u001b[0m\n\u001b[0;32m--> 436\u001b[0;31m                                     .format(hub, group, project))\n\u001b[0m\u001b[1;32m    437\u001b[0m         \u001b[0;32mif\u001b[0m \u001b[0mlen\u001b[0m\u001b[0;34m(\u001b[0m\u001b[0mproviders\u001b[0m\u001b[0;34m)\u001b[0m \u001b[0;34m>\u001b[0m \u001b[0;36m1\u001b[0m\u001b[0;34m:\u001b[0m\u001b[0;34m\u001b[0m\u001b[0;34m\u001b[0m\u001b[0m\n\u001b[1;32m    438\u001b[0m             raise IBMQProviderError('More than one provider matches the specified criteria.'\n",
            "\u001b[0;31mIBMQProviderError\u001b[0m: 'No provider matches the specified criteria: hub = None, group = None, project = my_project'"
          ]
        }
      ],
      "source": "IBMQ.get_provider(hub='ibm-q')\nIBMQ.get_provider(project='my_project')"
    },
    {
      "cell_type": "code",
      "execution_count": 3,
      "metadata": {
        "trusted": true
      },
      "outputs": [
        {
          "data": {
            "text/plain": "[<IBMQSimulator('ibmq_qasm_simulator') from IBMQ(hub='ibm-q', group='open', project='main')>,\n <IBMQBackend('ibmqx2') from IBMQ(hub='ibm-q', group='open', project='main')>,\n <IBMQBackend('ibmq_16_melbourne') from IBMQ(hub='ibm-q', group='open', project='main')>,\n <IBMQBackend('ibmq_vigo') from IBMQ(hub='ibm-q', group='open', project='main')>,\n <IBMQBackend('ibmq_ourense') from IBMQ(hub='ibm-q', group='open', project='main')>,\n <IBMQBackend('ibmq_valencia') from IBMQ(hub='ibm-q', group='open', project='main')>,\n <IBMQBackend('ibmq_armonk') from IBMQ(hub='ibm-q', group='open', project='main')>,\n <IBMQBackend('ibmq_athens') from IBMQ(hub='ibm-q', group='open', project='main')>,\n <IBMQBackend('ibmq_santiago') from IBMQ(hub='ibm-q', group='open', project='main')>]"
          },
          "execution_count": 3,
          "metadata": {},
          "output_type": "execute_result"
        }
      ],
      "source": "provider = IBMQ.get_provider(group='open')\nprovider.backends()\n"
    },
    {
      "cell_type": "code",
      "execution_count": 4,
      "metadata": {
        "trusted": true
      },
      "outputs": [
        {
          "data": {
            "text/plain": "[<IBMQBackend('ibmqx2') from IBMQ(hub='ibm-q', group='open', project='main')>,\n <IBMQBackend('ibmq_16_melbourne') from IBMQ(hub='ibm-q', group='open', project='main')>,\n <IBMQBackend('ibmq_vigo') from IBMQ(hub='ibm-q', group='open', project='main')>,\n <IBMQBackend('ibmq_ourense') from IBMQ(hub='ibm-q', group='open', project='main')>,\n <IBMQBackend('ibmq_valencia') from IBMQ(hub='ibm-q', group='open', project='main')>,\n <IBMQBackend('ibmq_armonk') from IBMQ(hub='ibm-q', group='open', project='main')>,\n <IBMQBackend('ibmq_athens') from IBMQ(hub='ibm-q', group='open', project='main')>,\n <IBMQBackend('ibmq_santiago') from IBMQ(hub='ibm-q', group='open', project='main')>]"
          },
          "execution_count": 4,
          "metadata": {},
          "output_type": "execute_result"
        }
      ],
      "source": "#Filter the list of backends to include only non-simulator and operational\nprovider.backends(simulator=False, operational=True)"
    },
    {
      "cell_type": "code",
      "execution_count": 6,
      "metadata": {
        "trusted": true
      },
      "outputs": [],
      "source": "backend = provider.get_backend('ibmq_santiago')"
    },
    {
      "cell_type": "code",
      "execution_count": 7,
      "metadata": {
        "trusted": true
      },
      "outputs": [
        {
          "name": "stdout",
          "output_type": "stream",
          "text": "The least busy small devices: ibmq_armonk\nThe least busy large devices: ibmq_16_melbourne\n"
        }
      ],
      "source": "#Import least busy function\nfrom qiskit.providers.ibmq import least_busy\n# get least busy devices which are less than 6 qubits and not a simulator\nsmall_devices = provider.backends(filters=lambda \n                                  x: x.configuration().n_qubits < 6 and not x.configuration().simulator)\n\n# get least busy devices which are larger than 6 qubits and not a simulator\nlarge_devices = provider.backends(filters=lambda \n                                  x: x.configuration().n_qubits > 6 and not x.configuration().simulator)\n\nprint('The least busy small devices: {}'.format(least_busy(small_devices)))\nprint('The least busy large devices: {}'.format(least_busy(large_devices)))"
    },
    {
      "cell_type": "code",
      "execution_count": 10,
      "metadata": {
        "trusted": true
      },
      "outputs": [
        {
          "name": "stdout",
          "output_type": "stream",
          "text": "Number of pending jobs in the queue:  97\n"
        }
      ],
      "source": "backend = provider.get_backend('ibmq_valencia')\nbackend.name()\nstatus = backend.status()\njobs_in_queue = status.pending_jobs\nprint('Number of pending jobs in the queue: ', jobs_in_queue)"
    },
    {
      "cell_type": "code",
      "execution_count": 11,
      "metadata": {
        "trusted": true
      },
      "outputs": [
        {
          "data": {
            "application/vnd.jupyter.widget-view+json": {
              "model_id": "28abb1eb7a4c40bf91798e599d5f2775",
              "version_major": 2,
              "version_minor": 0
            },
            "text/plain": "VBox(children=(HTML(value=\"<h1 style='color:#ffffff;background-color:#000000;padding-top: 1%;padding-bottom: 1…"
          },
          "metadata": {},
          "output_type": "display_data"
        },
        {
          "data": {
            "text/plain": "<IBMQBackend('ibmq_valencia') from IBMQ(hub='ibm-q', group='open', project='main')>"
          },
          "execution_count": 11,
          "metadata": {},
          "output_type": "execute_result"
        }
      ],
      "source": "backend.configuration()\nbackend"
    },
    {
      "cell_type": "code",
      "execution_count": 12,
      "metadata": {
        "trusted": true
      },
      "outputs": [
        {
          "data": {
            "text/plain": "[[Nduv(datetime.datetime(2020, 10, 25, 8, 13, 30, tzinfo=tzlocal()), T1, us, 99.45878134641065),\n  Nduv(datetime.datetime(2020, 10, 25, 8, 15, tzinfo=tzlocal()), T2, us, 60.53505457610266),\n  Nduv(datetime.datetime(2020, 10, 25, 8, 38, 18, tzinfo=tzlocal()), frequency, GHz, 4.74389238032289),\n  Nduv(datetime.datetime(2020, 10, 25, 8, 38, 18, tzinfo=tzlocal()), anharmonicity, GHz, -0.31386048358781926),\n  Nduv(datetime.datetime(2020, 10, 25, 8, 13, 6, tzinfo=tzlocal()), readout_error, , 0.03859999999999997),\n  Nduv(datetime.datetime(2020, 10, 25, 8, 13, 6, tzinfo=tzlocal()), prob_meas0_prep1, , 0.0514),\n  Nduv(datetime.datetime(2020, 10, 25, 8, 13, 6, tzinfo=tzlocal()), prob_meas1_prep0, , 0.0258)],\n [Nduv(datetime.datetime(2020, 10, 25, 8, 13, 30, tzinfo=tzlocal()), T1, us, 85.08507838611285),\n  Nduv(datetime.datetime(2020, 10, 25, 8, 16, 30, tzinfo=tzlocal()), T2, us, 43.634862188284025),\n  Nduv(datetime.datetime(2020, 10, 25, 8, 38, 18, tzinfo=tzlocal()), frequency, GHz, 4.660870076202931),\n  Nduv(datetime.datetime(2020, 10, 25, 8, 38, 18, tzinfo=tzlocal()), anharmonicity, GHz, -0.3105363104958379),\n  Nduv(datetime.datetime(2020, 10, 25, 8, 13, 6, tzinfo=tzlocal()), readout_error, , 0.06679999999999997),\n  Nduv(datetime.datetime(2020, 10, 25, 8, 13, 6, tzinfo=tzlocal()), prob_meas0_prep1, , 0.10519999999999996),\n  Nduv(datetime.datetime(2020, 10, 25, 8, 13, 6, tzinfo=tzlocal()), prob_meas1_prep0, , 0.0284)],\n [Nduv(datetime.datetime(2020, 10, 25, 8, 13, 30, tzinfo=tzlocal()), T1, us, 91.77457414659206),\n  Nduv(datetime.datetime(2020, 10, 25, 8, 15, tzinfo=tzlocal()), T2, us, 67.0085078284065),\n  Nduv(datetime.datetime(2020, 10, 25, 8, 38, 18, tzinfo=tzlocal()), frequency, GHz, 4.792497309797333),\n  Nduv(datetime.datetime(2020, 10, 25, 8, 38, 18, tzinfo=tzlocal()), anharmonicity, GHz, -0.3114160171877561),\n  Nduv(datetime.datetime(2020, 10, 25, 8, 13, 6, tzinfo=tzlocal()), readout_error, , 0.04299999999999993),\n  Nduv(datetime.datetime(2020, 10, 25, 8, 13, 6, tzinfo=tzlocal()), prob_meas0_prep1, , 0.06579999999999997),\n  Nduv(datetime.datetime(2020, 10, 25, 8, 13, 6, tzinfo=tzlocal()), prob_meas1_prep0, , 0.0202)],\n [Nduv(datetime.datetime(2020, 10, 25, 8, 13, 30, tzinfo=tzlocal()), T1, us, 125.53899093696255),\n  Nduv(datetime.datetime(2020, 10, 25, 8, 15, tzinfo=tzlocal()), T2, us, 49.027615985138524),\n  Nduv(datetime.datetime(2020, 10, 25, 8, 38, 18, tzinfo=tzlocal()), frequency, GHz, 4.834411670593744),\n  Nduv(datetime.datetime(2020, 10, 25, 8, 38, 18, tzinfo=tzlocal()), anharmonicity, GHz, -0.30961084229993835),\n  Nduv(datetime.datetime(2020, 10, 25, 8, 13, 6, tzinfo=tzlocal()), readout_error, , 0.023900000000000032),\n  Nduv(datetime.datetime(2020, 10, 25, 8, 13, 6, tzinfo=tzlocal()), prob_meas0_prep1, , 0.03500000000000003),\n  Nduv(datetime.datetime(2020, 10, 25, 8, 13, 6, tzinfo=tzlocal()), prob_meas1_prep0, , 0.0128)],\n [Nduv(datetime.datetime(2020, 10, 25, 8, 13, 30, tzinfo=tzlocal()), T1, us, 97.06540951931404),\n  Nduv(datetime.datetime(2020, 10, 25, 8, 16, 30, tzinfo=tzlocal()), T2, us, 131.3366961693805),\n  Nduv(datetime.datetime(2020, 10, 25, 8, 38, 18, tzinfo=tzlocal()), frequency, GHz, 4.959526436905227),\n  Nduv(datetime.datetime(2020, 10, 25, 8, 38, 18, tzinfo=tzlocal()), anharmonicity, GHz, -0.3094764772112857),\n  Nduv(datetime.datetime(2020, 10, 25, 8, 13, 6, tzinfo=tzlocal()), readout_error, , 0.012399999999999967),\n  Nduv(datetime.datetime(2020, 10, 25, 8, 13, 6, tzinfo=tzlocal()), prob_meas0_prep1, , 0.02059999999999995),\n  Nduv(datetime.datetime(2020, 10, 25, 8, 13, 6, tzinfo=tzlocal()), prob_meas1_prep0, , 0.0042)]]"
          },
          "execution_count": 12,
          "metadata": {},
          "output_type": "execute_result"
        }
      ],
      "source": "#Display the number of qubits from the backend properties\nbackend.properties().qubits"
    },
    {
      "cell_type": "code",
      "execution_count": 14,
      "metadata": {
        "trusted": true
      },
      "outputs": [
        {
          "name": "stdout",
          "output_type": "stream",
          "text": "Frequency of first qubit is: 4743892380.32289\nReadout error of first qubit is: 0.03859999999999997\n"
        }
      ],
      "source": "# Print out the frequency of qubit (0)\nprint('Frequency of first qubit is: '+ str(backend.properties().frequency(0)))\n#print out the readout error of qubit (0)\nprint('Readout error of first qubit is: '+ str(backend.properties().readout_error(0)))"
    },
    {
      "cell_type": "code",
      "execution_count": 16,
      "metadata": {
        "trusted": true
      },
      "outputs": [],
      "source": "#Run a few jobs on this backend to generate jobs on the backend\nqc = QuantumCircuit(1,1)\nqc.h(0)\nqc.measure_all()\nfor i in range(0,3):\n    result = execute(qc, backend, shots=1024).result()"
    },
    {
      "cell_type": "code",
      "execution_count": 18,
      "metadata": {
        "trusted": true
      },
      "outputs": [
        {
          "ename": "AttributeError",
          "evalue": "Attribute end_date is not defined.",
          "output_type": "error",
          "traceback": [
            "\u001b[0;31m---------------------------------------------------------------------------\u001b[0m",
            "\u001b[0;31mAttributeError\u001b[0m                            Traceback (most recent call last)",
            "\u001b[0;32m<ipython-input-18-5c56278b6bc8>\u001b[0m in \u001b[0;36m<module>\u001b[0;34m\u001b[0m\n\u001b[1;32m      3\u001b[0m          \u001b[0;34m+\u001b[0m \u001b[0mstr\u001b[0m\u001b[0;34m(\u001b[0m\u001b[0mexecuted_job\u001b[0m\u001b[0;34m.\u001b[0m\u001b[0mjob_id\u001b[0m\u001b[0;34m(\u001b[0m\u001b[0;34m)\u001b[0m\u001b[0;34m)\u001b[0m \u001b[0;34m+\u001b[0m \u001b[0;34m', '\u001b[0m\u001b[0;34m\u001b[0m\u001b[0;34m\u001b[0m\u001b[0m\n\u001b[1;32m      4\u001b[0m          \u001b[0;34m+\u001b[0m \u001b[0mstr\u001b[0m\u001b[0;34m(\u001b[0m\u001b[0mexecuted_job\u001b[0m\u001b[0;34m.\u001b[0m\u001b[0mend_date\u001b[0m\u001b[0;34m)\u001b[0m \u001b[0;34m+\u001b[0m \u001b[0;34m', '\u001b[0m\u001b[0;34m\u001b[0m\u001b[0;34m\u001b[0m\u001b[0m\n\u001b[0;32m----> 5\u001b[0;31m          + str(executed_job.status()))\n\u001b[0m",
            "\u001b[0;32m/opt/conda/lib/python3.7/site-packages/qiskit/providers/ibmq/job/ibmqjob.py\u001b[0m in \u001b[0;36m__getattr__\u001b[0;34m(self, name)\u001b[0m\n\u001b[1;32m   1066\u001b[0m             \u001b[0;32mreturn\u001b[0m \u001b[0mself\u001b[0m\u001b[0;34m.\u001b[0m\u001b[0m_data\u001b[0m\u001b[0;34m[\u001b[0m\u001b[0mname\u001b[0m\u001b[0;34m]\u001b[0m\u001b[0;34m\u001b[0m\u001b[0;34m\u001b[0m\u001b[0m\n\u001b[1;32m   1067\u001b[0m         \u001b[0;32mexcept\u001b[0m \u001b[0mKeyError\u001b[0m\u001b[0;34m:\u001b[0m\u001b[0;34m\u001b[0m\u001b[0;34m\u001b[0m\u001b[0m\n\u001b[0;32m-> 1068\u001b[0;31m             \u001b[0;32mraise\u001b[0m \u001b[0mAttributeError\u001b[0m\u001b[0;34m(\u001b[0m\u001b[0;34m'Attribute {} is not defined.'\u001b[0m\u001b[0;34m.\u001b[0m\u001b[0mformat\u001b[0m\u001b[0;34m(\u001b[0m\u001b[0mname\u001b[0m\u001b[0;34m)\u001b[0m\u001b[0;34m)\u001b[0m \u001b[0;32mfrom\u001b[0m \u001b[0;32mNone\u001b[0m\u001b[0;34m\u001b[0m\u001b[0;34m\u001b[0m\u001b[0m\n\u001b[0m",
            "\u001b[0;31mAttributeError\u001b[0m: Attribute end_date is not defined."
          ]
        }
      ],
      "source": "for executed_job in backend.jobs(limit=3):\n    print('Job id: '\n         + str(executed_job.job_id()) + ', '\n         + str(executed_job.end_date) + ', '\n         + str(executed_job.status()))"
    },
    {
      "cell_type": "code",
      "execution_count": null,
      "metadata": {
        "trusted": true
      },
      "outputs": [],
      "source": ""
    }
  ],
  "metadata": {
    "kernelspec": {
      "display_name": "Python 3",
      "language": "python",
      "name": "python3"
    },
    "language_info": {
      "codemirror_mode": {
        "name": "ipython",
        "version": 3
      },
      "file_extension": ".py",
      "mimetype": "text/x-python",
      "name": "python",
      "nbconvert_exporter": "python",
      "pygments_lexer": "ipython3",
      "version": "3.7.8"
    }
  },
  "nbformat": 4,
  "nbformat_minor": 4
}